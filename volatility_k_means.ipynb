{
 "cells": [
  {
   "cell_type": "markdown",
   "metadata": {},
   "source": [
    "[codebasics](https://www.youtube.com/watch?v=EItlUEPCIzM&list=PLeo1K3hjS3uvCeTYTeyfe0-rN5r8zn9rw&index=14)"
   ]
  },
  {
   "cell_type": "code",
   "execution_count": 1,
   "metadata": {},
   "outputs": [],
   "source": [
    "%matplotlib inline"
   ]
  },
  {
   "cell_type": "code",
   "execution_count": 2,
   "metadata": {},
   "outputs": [],
   "source": [
    "from sklearn.cluster import KMeans\n",
    "import pandas as pd\n",
    "import numpy as np\n",
    "from matplotlib import pyplot as plt"
   ]
  },
  {
   "cell_type": "code",
   "execution_count": 14,
   "metadata": {
    "scrolled": true
   },
   "outputs": [],
   "source": [
    "df = pd.read_csv(\"volatility_20191001_롯데칠성.csv\")\n"
   ]
  },
  {
   "cell_type": "code",
   "execution_count": 18,
   "metadata": {
    "scrolled": true
   },
   "outputs": [
    {
     "name": "stdout",
     "output_type": "stream",
     "text": [
      "[1 2 2 1 0 1 2 1 1 1 1 1 1 1 1 1 1 2 1 1 1 1 2 1 1 2 1 0 1 1 1 2 2 1 0 2 1\n",
      " 1 2 0 1 1 2 2 1 2 1 2 1 1 1 2 2 1 2 2 1 0 2 1 1 1 1 1 2 1 1 1 2 0 1 0 1 2\n",
      " 2 0 2 1 1 1 1 1 2 2 0 2 2 1 1 1 2 2 1 2 0 1 1 2 1 1 0 1 2 0 2 2 0 2 0 2 1\n",
      " 2 2 1 0 1 2 0 0 2 1 1 2 0 1 2 1 2 2 1 2 1 1 1 0 2 2 1 1 2 2 1 2 1 2 2 2 2\n",
      " 1 0 2 2 2 2 0 0 2 2 0 2 0 0 2 0 2 0 2 2 0 2 2 1 2 1 1 2 1 1 1 1 0 1 2 1 1\n",
      " 1 2 1 0 2 0 2 0 1 2 2 2 1 2 0]\n",
      "[[0.43827955]\n",
      " [0.23941632]\n",
      " [0.32069821]]\n",
      "     Volatility  cluster\n",
      "4      0.384814        0\n",
      "27     0.386065        0\n",
      "34     0.399343        0\n",
      "39     0.401119        0\n",
      "57     0.462598        0\n",
      "69     0.433186        0\n",
      "71     0.402441        0\n",
      "75     0.434592        0\n",
      "84     0.471767        0\n",
      "94     0.502198        0\n",
      "100    0.382483        0\n",
      "103    0.435915        0\n",
      "106    0.411309        0\n",
      "108    0.381296        0\n",
      "114    0.467926        0\n",
      "117    0.409632        0\n",
      "118    0.516783        0\n",
      "123    0.428171        0\n",
      "134    0.459159        0\n",
      "149    0.472057        0\n",
      "154    0.415227        0\n",
      "155    0.388231        0\n",
      "158    0.407072        0\n",
      "160    0.461216        0\n",
      "161    0.428402        0\n",
      "163    0.418205        0\n",
      "165    0.623833        0\n",
      "168    0.412853        0\n",
      "180    0.536443        0\n",
      "188    0.474092        0\n",
      "190    0.478389        0\n",
      "192    0.386702        0\n",
      "199    0.389703        0\n",
      "     Volatility  cluster\n",
      "0      0.230587        1\n",
      "3      0.249491        1\n",
      "5      0.278399        1\n",
      "7      0.253573        1\n",
      "8      0.200790        1\n",
      "9      0.171633        1\n",
      "10     0.263819        1\n",
      "11     0.225440        1\n",
      "12     0.212964        1\n",
      "13     0.242311        1\n",
      "14     0.258407        1\n",
      "15     0.249426        1\n",
      "16     0.265105        1\n",
      "18     0.234960        1\n",
      "19     0.187383        1\n",
      "20     0.255377        1\n",
      "21     0.161500        1\n",
      "23     0.218404        1\n",
      "24     0.253409        1\n",
      "26     0.246674        1\n",
      "28     0.216761        1\n",
      "29     0.274458        1\n",
      "30     0.219320        1\n",
      "33     0.207229        1\n",
      "36     0.112683        1\n",
      "37     0.185677        1\n",
      "40     0.228374        1\n",
      "41     0.278220        1\n",
      "44     0.234416        1\n",
      "46     0.245684        1\n",
      "..          ...      ...\n",
      "110    0.256722        1\n",
      "113    0.273449        1\n",
      "115    0.257056        1\n",
      "120    0.253896        1\n",
      "121    0.277803        1\n",
      "124    0.259506        1\n",
      "126    0.277710        1\n",
      "129    0.260468        1\n",
      "131    0.260382        1\n",
      "132    0.246925        1\n",
      "133    0.278671        1\n",
      "137    0.213528        1\n",
      "138    0.250808        1\n",
      "141    0.229695        1\n",
      "143    0.249113        1\n",
      "148    0.268381        1\n",
      "171    0.276985        1\n",
      "173    0.257370        1\n",
      "174    0.239260        1\n",
      "176    0.218730        1\n",
      "177    0.238508        1\n",
      "178    0.273114        1\n",
      "179    0.274408        1\n",
      "181    0.209156        1\n",
      "183    0.244476        1\n",
      "184    0.242637        1\n",
      "185    0.239725        1\n",
      "187    0.193536        1\n",
      "193    0.218659        1\n",
      "197    0.166024        1\n",
      "\n",
      "[89 rows x 2 columns]\n",
      "     Volatility  cluster\n",
      "1      0.367325        2\n",
      "2      0.287130        2\n",
      "6      0.375120        2\n",
      "17     0.305898        2\n",
      "22     0.302694        2\n",
      "25     0.302960        2\n",
      "31     0.343626        2\n",
      "32     0.365573        2\n",
      "35     0.315693        2\n",
      "38     0.313321        2\n",
      "42     0.295604        2\n",
      "43     0.296945        2\n",
      "45     0.334729        2\n",
      "47     0.337700        2\n",
      "51     0.317131        2\n",
      "52     0.307705        2\n",
      "54     0.305940        2\n",
      "55     0.280481        2\n",
      "58     0.294279        2\n",
      "64     0.306260        2\n",
      "68     0.300423        2\n",
      "73     0.330143        2\n",
      "74     0.330367        2\n",
      "76     0.354660        2\n",
      "82     0.366407        2\n",
      "83     0.298761        2\n",
      "85     0.283365        2\n",
      "86     0.283907        2\n",
      "90     0.358842        2\n",
      "91     0.324489        2\n",
      "..          ...      ...\n",
      "139    0.322499        2\n",
      "140    0.326344        2\n",
      "142    0.358280        2\n",
      "144    0.289328        2\n",
      "145    0.283935        2\n",
      "146    0.369262        2\n",
      "147    0.289537        2\n",
      "150    0.337812        2\n",
      "151    0.365678        2\n",
      "152    0.297923        2\n",
      "153    0.326572        2\n",
      "156    0.344509        2\n",
      "157    0.343765        2\n",
      "159    0.322717        2\n",
      "162    0.309877        2\n",
      "164    0.318155        2\n",
      "166    0.356818        2\n",
      "167    0.281291        2\n",
      "169    0.301230        2\n",
      "170    0.323367        2\n",
      "172    0.285657        2\n",
      "175    0.332984        2\n",
      "182    0.299284        2\n",
      "186    0.312953        2\n",
      "189    0.303726        2\n",
      "191    0.313548        2\n",
      "194    0.321314        2\n",
      "195    0.295131        2\n",
      "196    0.308352        2\n",
      "198    0.332519        2\n",
      "\n",
      "[78 rows x 2 columns]\n"
     ]
    }
   ],
   "source": [
    "km = KMeans(n_clusters=3, random_state=0)\n",
    "y_pred = km.fit_predict(df[['Volatility']])\n",
    "print(y_pred)\n",
    "\n",
    "df['cluster'] = y_pred\n",
    "\n",
    "print(km.cluster_centers_)\n",
    "\n",
    "df1 = df[df.cluster==0]\n",
    "df2 = df[df.cluster==1]\n",
    "df3 = df[df.cluster==2]\n",
    "\n",
    "df.to_csv('volatility_kmeans.csv')\n",
    "\n",
    "print(df1)\n",
    "print(df2)\n",
    "print(df3)\n",
    "\n",
    "\n"
   ]
  },
  {
   "cell_type": "markdown",
   "metadata": {},
   "source": [
    "<h4 style='color:purple'>Elbow Plot</h4>"
   ]
  },
  {
   "cell_type": "code",
   "execution_count": 16,
   "metadata": {
    "scrolled": true
   },
   "outputs": [],
   "source": [
    "sse = []\n",
    "k_rng = range(1,10)\n",
    "for k in k_rng:\n",
    "    km = KMeans(n_clusters=k)\n",
    "    km.fit(df[['Volatility']])\n",
    "    sse.append(km.inertia_)"
   ]
  },
  {
   "cell_type": "code",
   "execution_count": 17,
   "metadata": {
    "scrolled": true
   },
   "outputs": [
    {
     "data": {
      "image/png": "[encoded data removed]",
      "text/plain": [
       "<Figure size 432x288 with 1 Axes>"
      ]
     },
     "metadata": {
      "needs_background": "light"
     },
     "output_type": "display_data"
    }
   ],
   "source": [
    "plt.xlabel('number of clusters')\n",
    "plt.ylabel('sum of squared error')\n",
    "plt.plot(k_rng, sse)\n",
    "plt.show()"
   ]
  },
  {
   "cell_type": "markdown",
   "metadata": {},
   "source": [
    "<h4 style='color:purple'>Exercise</h4>"
   ]
  },
  {
   "cell_type": "markdown",
   "metadata": {},
   "source": [
    "<img src='iris.png' width=200 height=200>"
   ]
  },
  {
   "cell_type": "markdown",
   "metadata": {},
   "source": [
    "1. Use iris flower dataset from sklearn library and try to form clusters of flowers using petal width and length features. Drop other two features for simplicity.\n",
    "2. Figure out if any preprocessing such as scaling would help here\n",
    "3. Draw elbow plot and from that figure out optimal value of k"
   ]
  }
 ],
 "metadata": {
  "kernelspec": {
   "display_name": "Python 3",
   "language": "python",
   "name": "python3"
  },
  "language_info": {
   "codemirror_mode": {
    "name": "ipython",
    "version": 3
   },
   "file_extension": ".py",
   "mimetype": "text/x-python",
   "name": "python",
   "nbconvert_exporter": "python",
   "pygments_lexer": "ipython3",
   "version": "3.7.3"
  }
 },
 "nbformat": 4,
 "nbformat_minor": 2
}
